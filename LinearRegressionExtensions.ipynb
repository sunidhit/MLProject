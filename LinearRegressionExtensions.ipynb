{
 "cells": [
  {
   "cell_type": "markdown",
   "metadata": {
    "colab_type": "text",
    "id": "mmcKMDE3Lsrv"
   },
   "source": [
    "# Linear Regression Extensions - :\n"
   ]
  },
  {
   "cell_type": "code",
   "execution_count": 31,
   "metadata": {
    "colab": {},
    "colab_type": "code",
    "id": "VFnzWJrBLsry"
   },
   "outputs": [],
   "source": [
    "import numpy as np\n",
    "import sklearn\n",
    "from sklearn.datasets import load_boston\n",
    "from sklearn.datasets import load_diabetes\n",
    "from sklearn.model_selection import train_test_split\n",
    "from sklearn import metrics\n",
    "from sklearn import preprocessing\n",
    "import matplotlib.pyplot as plt\n",
    "from sklearn.linear_model import Lasso\n",
    "from sklearn.model_selection import KFold"
   ]
  },
  {
   "cell_type": "code",
   "execution_count": 32,
   "metadata": {
    "colab": {},
    "colab_type": "code",
    "id": "Qp0oUp-5Lsr2"
   },
   "outputs": [],
   "source": [
    "boston_data = load_boston()\n",
    "X = boston_data.data\n",
    "y = boston_data.target\n",
    "y = y.reshape(X.shape[0], 1)\n",
    "\n",
    "\n",
    "#normalize data\n",
    "X = X / (np.linalg.norm(X,axis = 0))"
   ]
  },
  {
   "cell_type": "code",
   "execution_count": 33,
   "metadata": {
    "colab": {},
    "colab_type": "code",
    "id": "hFepB7QBLsr4"
   },
   "outputs": [],
   "source": [
    "def coefficient_linear_regression(X,Y):\n",
    "    w = np.dot(np.linalg.pinv(X),Y)\n",
    "    return w"
   ]
  },
  {
   "cell_type": "markdown",
   "metadata": {
    "colab_type": "text",
    "id": "mkuY5br9Lsr6"
   },
   "source": [
    "# Implementing Lasso Regression  using coordinate descent algorithm :"
   ]
  },
  {
   "cell_type": "code",
   "execution_count": 34,
   "metadata": {
    "colab": {},
    "colab_type": "code",
    "id": "xEyAuBMoLsr7"
   },
   "outputs": [],
   "source": [
    "# return w(j) for each w :\n",
    "\n",
    "def coefficient(c,alpha):\n",
    "    if c < (-alpha):\n",
    "        wj = (c + alpha)\n",
    "    elif c > alpha :\n",
    "        wj = (c - alpha)\n",
    "    else:\n",
    "        wj = 0\n",
    "    return wj\n",
    "\n",
    "\n",
    "def lasso_coefficient(X,y,w,alpha,num_of_iterations):\n",
    "    training_rows,features = X.shape\n",
    "    for i in range(num_of_iterations):\n",
    "        for j in range(features):\n",
    "            x_j = X[:,j].reshape(-1,1)\n",
    "            predicted_y = np.dot(X,w)\n",
    "            c_j = x_j.T @ (y - predicted_y  + w[j]*x_j)\n",
    "            w[j]=coefficient(c_j,alpha)\n",
    "            if np.isinf(w[j]):\n",
    "                w[j]=0\n",
    "            else:\n",
    "                w[j]= float(w[j])\n",
    "    return w    \n",
    " \n"
   ]
  },
  {
   "cell_type": "code",
   "execution_count": 35,
   "metadata": {
    "colab": {},
    "colab_type": "code",
    "id": "hpxvhKyhLsr-"
   },
   "outputs": [],
   "source": [
    "def train(X,y):\n",
    "    m,n = X.shape\n",
    "    k=5\n",
    "    num_of_iterations=500\n",
    "    alpha = np.logspace(0,4,300)/10\n",
    "    lasso_costs=[]\n",
    "    for al in alpha:\n",
    "        train_error,test_error = cross_validation(X,y,k,al,num_of_iterations)\n",
    "        lasso_costs = np.append(lasso_costs,test_error)\n",
    "    \n",
    "    min_arg = np.argmin(np.unique(X,return_counts=True)[1])\n",
    "    min_test_error = np.argmin(lasso_costs)\n",
    "    index=np.unravel_index(min_arg,lasso_costs.shape)\n",
    "    #print(\"index with minimum value:\",index)\n",
    "    \n",
    "    #best alpha =\n",
    "    min_error_alpha = alpha[index]\n",
    "    print(\"best alpha is:\",min_error_alpha)\n",
    "    return min_error_alpha\n",
    "    \n",
    "\n",
    "def predict(X,w):\n",
    "    predicted=np.dot(X,w)\n",
    "    return predicted\n",
    "\n",
    "\n",
    "def evaluate_accuracy(y,predicted_y):\n",
    "    test_error=np.sum((predicted_y - y)**2) / (y.shape[0])\n",
    "    return test_error\n",
    "\n",
    "\n",
    "def cross_validation(X,y,k,alpha,num_of_iterations):\n",
    "    kf = KFold(n_splits=k, random_state=21, shuffle=True)\n",
    "    total_training_error=0\n",
    "    total_test_error = 0\n",
    "    for i,j in kf.split(X):\n",
    "        training_error=0\n",
    "        test_error =0\n",
    "        X_train, X_test = X[i],X[j]\n",
    "        Y_train, Y_test = y[i],y[j]\n",
    "        \n",
    "        Y_train_mean = np.mean(Y_train)\n",
    "        Y_train = Y_train - Y_train_mean\n",
    "        Y_test = Y_test - Y_train_mean\n",
    "        \n",
    "        m,n = X_train.shape\n",
    "        w = np.ones((n,1))\n",
    "        w = lasso_coefficient(X_train,Y_train,w,alpha,num_of_iterations) \n",
    "        training_error = evaluate_accuracy(Y_train,predict(X_train,w))\n",
    "        test_error = evaluate_accuracy(Y_test,predict(X_test,w))\n",
    "        \n",
    "        total_training_error +=training_error\n",
    "        total_test_error += test_error\n",
    "    \n",
    "        \n",
    "    average_training_error = total_training_error/k\n",
    "    average_test_error = total_test_error/k\n",
    "    return average_training_error,average_test_error\n",
    "    \n",
    "    "
   ]
  },
  {
   "cell_type": "code",
   "execution_count": 36,
   "metadata": {
    "colab": {},
    "colab_type": "code",
    "id": "Z1OxXdiDMIdI",
    "scrolled": false
   },
   "outputs": [
    {
     "name": "stdout",
     "output_type": "stream",
     "text": [
      "best alpha is: 0.10312831606721848\n",
      "Mean squared error: 51.368725995993216\n",
      "average train error is: 42.96452063067896\n",
      "average test error: 44.90887397941972\n"
     ]
    }
   ],
   "source": [
    "#lasso regularization on linear regression \n",
    "\n",
    "optimal_alpha = train(X,y)\n",
    "train_error,test_error = cross_validation(X,y,5,optimal_alpha,500)\n",
    "X_train,X_test,Y_train,Y_test = train_test_split(X,y,test_size = 0.3, random_state =31)\n",
    "m,n = X_train.shape\n",
    "w = np.ones((n,1))\n",
    "#w = np.dot(np.linalg.pinv(X_train),Y_train)\n",
    "w_lasso =lasso_coefficient(X_train,Y_train,w,optimal_alpha,500) \n",
    "predicted_y = predict(X_test,w_lasso)\n",
    "print(\"Mean squared error:\",evaluate_accuracy(Y_test,predicted_y)) \n",
    "print(\"average train error is:\",train_error)\n",
    "print(\"average test error:\",test_error)\n"
   ]
  },
  {
   "cell_type": "code",
   "execution_count": 37,
   "metadata": {
    "colab": {},
    "colab_type": "code",
    "id": "xMz8E06cMMqe"
   },
   "outputs": [
    {
     "name": "stdout",
     "output_type": "stream",
     "text": [
      "linear regression mean squared error: 24.03313968286438\n",
      "mean square error for linear regression on dataset1 is: 24.03313968286438\n"
     ]
    }
   ],
   "source": [
    "# using simple linear regression : \n",
    "\n",
    "boston_data = load_boston()\n",
    "X_linear = boston_data.data\n",
    "y_linear = boston_data.target\n",
    "y_linear = y_linear.reshape(X.shape[0], 1)\n",
    "X_train_linear,X_test_linear,Y_train_linear,Y_test_linear = train_test_split(X_linear,y_linear,test_size = 0.3, random_state = 31)\n",
    "w_linear = coefficient_linear_regression(X_train_linear,Y_train_linear)\n",
    "predicted_linear = predict(X_test_linear,w_linear)\n",
    "print(\"linear regression mean squared error:\",evaluate_accuracy(Y_test_linear,predicted_linear))\n",
    "print(\"mean square error for linear regression on dataset1 is:\",metrics.mean_squared_error(Y_test_linear,predicted_linear))"
   ]
  },
  {
   "cell_type": "code",
   "execution_count": 38,
   "metadata": {
    "colab": {},
    "colab_type": "code",
    "id": "icX6aQLQMPMj"
   },
   "outputs": [
    {
     "name": "stdout",
     "output_type": "stream",
     "text": [
      "mean square error is: 21.349196618370883\n",
      "training score: 0.7131258331595984\n",
      "test score:  0.7404464175157098\n",
      "number of features used:  12\n"
     ]
    }
   ],
   "source": [
    "#using sklearn lasso regularization\n",
    "lasso = Lasso(alpha=0.1)\n",
    "lasso.fit(X_train_linear,Y_train_linear)\n",
    "train_score=lasso.score(X_train_linear,Y_train_linear)\n",
    "test_score=lasso.score(X_test_linear,Y_test_linear)\n",
    "coeff_used = np.sum(lasso.coef_!=0)\n",
    "predict_l=lasso.predict(X_test_linear)\n",
    "print(\"mean square error is:\",metrics.mean_squared_error(Y_test_linear,predict_l))\n",
    "print(\"training score:\", train_score) \n",
    "print(\"test score: \", test_score)\n",
    "print(\"number of features used: \", coeff_used)"
   ]
  },
  {
   "cell_type": "markdown",
   "metadata": {},
   "source": [
    "# Dataset 2 : Diabetes dataset"
   ]
  },
  {
   "cell_type": "code",
   "execution_count": 39,
   "metadata": {},
   "outputs": [],
   "source": [
    "diabetes_data = load_diabetes()\n",
    "X_new = diabetes_data.data\n",
    "y_new = diabetes_data.target\n",
    "y_new = y_new.reshape(X_new.shape[0], 1)\n",
    "\n",
    "\n",
    "\n",
    "\n",
    "#normalize data\n",
    "X_new = X_new / (np.linalg.norm(X_new,axis = 0))\n",
    "\n"
   ]
  },
  {
   "cell_type": "code",
   "execution_count": 40,
   "metadata": {},
   "outputs": [
    {
     "name": "stdout",
     "output_type": "stream",
     "text": [
      "best alpha is: 0.1\n",
      "Mean squared error: 27821.895483517885\n",
      "average train error is: 42.96452063067896\n",
      "average test error: 44.90887397941972\n",
      "mean square error using sklearn: 27821.895483517885\n"
     ]
    }
   ],
   "source": [
    "#running lasso implementation\n",
    "#print(\"X_new:\",X_new.shape)\n",
    "#print(\"Y_new:\",y_new.shape)\n",
    "optimal_alpha = train(X_new,y_new)\n",
    "train_error_new,test_error_new = cross_validation(X_new,y_new,5,optimal_alpha,500)\n",
    "X_train_new,X_test_new,Y_train_new,Y_test_new = train_test_split(X_new,y_new,test_size = 0.3, random_state =31)\n",
    "m,n = X_train_new.shape\n",
    "w_new = np.ones((n,1))\n",
    "w_lasso_new =lasso_coefficient(X_train_new,Y_train_new,w_new,optimal_alpha,500) \n",
    "#print(w_lasso)\n",
    "predicted_y_new = predict(X_test_new,w_lasso_new)\n",
    "print(\"Mean squared error:\",evaluate_accuracy(Y_test_new,predicted_y_new)) \n",
    "print(\"average train error is:\",train_error)\n",
    "print(\"average test error:\",test_error)\n",
    "print(\"mean square error using sklearn:\",metrics.mean_squared_error(Y_test_new,predicted_y_new))"
   ]
  },
  {
   "cell_type": "code",
   "execution_count": 41,
   "metadata": {},
   "outputs": [
    {
     "name": "stdout",
     "output_type": "stream",
     "text": [
      "linear regression mean squared error: 28722.37086585841\n",
      "mean square error is: 28722.37086585841\n"
     ]
    }
   ],
   "source": [
    "#running linear regression\n",
    "diabetes_data = load_diabetes()\n",
    "X_new_linear = diabetes_data.data\n",
    "y_new_linear = diabetes_data.target\n",
    "y_new_linear = y_new_linear.reshape(X_new_linear.shape[0], 1)\n",
    "\n",
    "#splitting dataset \n",
    "X_train_new_linear,X_test_new_linear,Y_train_new_linear,Y_test_new_linear = train_test_split(X_new_linear,y_new_linear,test_size = 0.3, random_state = 31)\n",
    "w_linear_new = coefficient_linear_regression(X_train_new_linear,Y_train_new_linear)\n",
    "predicted_linear_new = predict(X_test_new_linear,w_linear_new)\n",
    "print(\"linear regression mean squared error:\",evaluate_accuracy(Y_test_new,predicted_linear_new))\n",
    "print(\"mean square error is:\",metrics.mean_squared_error(Y_test_new,predicted_linear_new))\n",
    "\n",
    "\n"
   ]
  },
  {
   "cell_type": "code",
   "execution_count": 42,
   "metadata": {},
   "outputs": [
    {
     "name": "stdout",
     "output_type": "stream",
     "text": [
      "training score: 0.47413308018390576\n",
      "test score:  0.5665238529385686\n",
      "number of features used:  7\n",
      "mean square error is: 2890.233246630248\n"
     ]
    }
   ],
   "source": [
    "#running sklearn lasso\n",
    "lasso = Lasso(alpha=0.1)\n",
    "lasso.fit(X_train_new_linear,Y_train_new_linear)\n",
    "train_score=lasso.score(X_train_new_linear,Y_train_new_linear)\n",
    "test_score=lasso.score(X_test_new_linear,Y_test_new_linear)\n",
    "coeff_used = np.sum(lasso.coef_!=0)\n",
    "predict=lasso.predict(X_test_new_linear)\n",
    "print(\"training score:\", train_score) \n",
    "print(\"test score: \", test_score)\n",
    "print(\"number of features used: \", coeff_used)\n",
    "print(\"mean square error is:\",metrics.mean_squared_error(Y_test_new_linear,predict))\n"
   ]
  }
 ],
 "metadata": {
  "colab": {
   "collapsed_sections": [],
   "name": "MachineLearningProject.ipynb",
   "provenance": []
  },
  "kernelspec": {
   "display_name": "Python 3",
   "language": "python",
   "name": "python3"
  },
  "language_info": {
   "codemirror_mode": {
    "name": "ipython",
    "version": 3
   },
   "file_extension": ".py",
   "mimetype": "text/x-python",
   "name": "python",
   "nbconvert_exporter": "python",
   "pygments_lexer": "ipython3",
   "version": "3.7.3"
  }
 },
 "nbformat": 4,
 "nbformat_minor": 1
}
