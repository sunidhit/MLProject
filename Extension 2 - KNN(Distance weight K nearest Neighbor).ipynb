{
 "cells": [
  {
   "cell_type": "code",
   "execution_count": null,
   "metadata": {},
   "outputs": [],
   "source": [
    "from sklearn.model_selection import train_test_split\n",
    "from sklearn.datasets import load_breast_cancer\n",
    "# Import the usual libraries\n",
    "import matplotlib.pyplot as plt # plotting utilities \n",
    "%matplotlib inline\n",
    "import numpy as np \n",
    "import pandas as pd  # To read in the dataset we will use the Panda's library\n",
    "df = pd.read_csv('iris.csv', header=None, names = [\"sepal length[cm]\",\"sepal width[cm]\",\"petal length[cm]\", \"petal width\", \"label\"])\n",
    "\n",
    "# Next we observe the first 5 rows of the data to ensure everything was read correctly\n",
    "df.head()"
   ]
  },
  {
   "cell_type": "code",
   "execution_count": null,
   "metadata": {},
   "outputs": [],
   "source": [
    "df['label'] = df.label.map({'Iris-setosa': 0,\n",
    "              'Iris-versicolor': 1,\n",
    "              'Iris-virginica': 2})"
   ]
  },
  {
   "cell_type": "code",
   "execution_count": null,
   "metadata": {},
   "outputs": [],
   "source": [
    "names = [\"sepal length[cm]\",\"sepal width[cm]\",\"petal length[cm]\", \"petal width\"]\n",
    "df_X_train, df_X_test, df_y_train, df_y_test = train_test_split(df[names],df['label'], random_state=0)\n",
    "\n",
    "X_train=df_X_train.to_numpy()\n",
    "X_test=df_X_test.to_numpy()\n",
    "y_train=df_y_train.to_numpy()\n",
    "y_test=df_y_test.to_numpy()\n",
    "\n",
    "#Looking at the train/test split\n",
    "print(\"The number of training examples: \", X_train.shape[0])\n",
    "print(\"The number of test exampels: \", X_test.shape[0])\n",
    "\n",
    "#print(\"The first four training labels\")\n",
    "#print(y_train[0:4])\n",
    "\n",
    "#print(\"The first four iris' measurements\")\n",
    "#print(X_test[0:4])"
   ]
  },
  {
   "cell_type": "code",
   "execution_count": null,
   "metadata": {},
   "outputs": [],
   "source": [
    "def distance(A,B):\n",
    "    difference = (A-B)**2\n",
    "    return np.sqrt(difference.sum())\n",
    "\n",
    "def get_closest_label(D,k):\n",
    "    k_neighbors=D[:k]\n",
    "    if k == 1:\n",
    "        return D[0][0]\n",
    "    else :\n",
    "        f1=0\n",
    "        f2=0\n",
    "        f3=0\n",
    "        for j in range(k):\n",
    "            if(k_neighbors[j][1]==0):\n",
    "                    f1+=1\n",
    "            elif(k_neighbors[j][1]==1):\n",
    "                    f2+=1\n",
    "            else:\n",
    "                f3+=1;\n",
    "            if (f1> f2) & (f1>f3):\n",
    "                most_frequent_label=0\n",
    "            elif (f2>f1) & (f2>f3):\n",
    "                most_frequent_label=1\n",
    "            else:\n",
    "                most_frequent_label=2\n",
    "    return most_frequent_label\n",
    "    \n",
    "    "
   ]
  },
  {
   "cell_type": "code",
   "execution_count": null,
   "metadata": {},
   "outputs": [],
   "source": [
    "def predict(X_train,X_test,y_train,k):\n",
    "    train_rows,train_columns = X_train.shape\n",
    "    test_rows,test_columns = X_test.shape\n",
    "    predicted_labels = np.empty(shape=[0,X_test.shape[0]])\n",
    "    for i in range(test_rows):\n",
    "        distance_array = []\n",
    "        for j in range(train_rows):\n",
    "            #distance_array.append((distance(X_test[i], X_train[j]), y_train[j]))\n",
    "            distance_array.append((distance(X_test[i], X_train[j]), y_train[j]))\n",
    "        distance_array = sorted(distance_array, key=lambda x: (x[0]))\n",
    "        predicted_labels=np.append(predicted_labels,get_closest_label(distance_array,k))\n",
    "    return predicted_labels\n",
    "    \n",
    "    \n",
    "def accuracy(actual_y,predicted_y):\n",
    "    correct_prediction=0\n",
    "    for i in range(np.size(actual_y)):\n",
    "        if(actual_y[i]==predicted_y[i]):\n",
    "            correct_prediction+=1\n",
    "    total_prediction=np.size(actual_y)\n",
    "    accuracy=(correct_prediction/total_prediction)*100\n",
    "    return accuracy    \n",
    "    \n",
    "    "
   ]
  },
  {
   "cell_type": "code",
   "execution_count": null,
   "metadata": {},
   "outputs": [],
   "source": [
    "result=predict(X_train,X_test,y_train,2)\n",
    "print(\"accuracy for basic knn is:\",accuracy(y_test,result),\"%\")"
   ]
  },
  {
   "cell_type": "markdown",
   "metadata": {},
   "source": [
    "# Extension : - inverse distance weighted voting"
   ]
  },
  {
   "cell_type": "code",
   "execution_count": null,
   "metadata": {},
   "outputs": [],
   "source": [
    "def weighted_voting(D,k):\n",
    "    weights = np.zeros(k)\n",
    "    sums=0\n",
    "    for i in range(k):\n",
    "        weights[i] += 1.0 / D[i][0]\n",
    "        if np.isinf(weights[i]):\n",
    "            weights[i]=0\n",
    "        else:\n",
    "            weights[i]= float(weights[i])\n",
    "        sums += weights[i]\n",
    "    weights /= sums\n",
    "    return weights"
   ]
  },
  {
   "cell_type": "code",
   "execution_count": null,
   "metadata": {},
   "outputs": [],
   "source": [
    "def votes(D,w,k):\n",
    "    votes = np.zeros(3, dtype=np.float32)\n",
    "    k_neighbor= D[:k]\n",
    "    for i in range(k):\n",
    "        predc = k_neighbor[i][1]\n",
    "        #print(\"predc:\",predc)\n",
    "        votes[predc] += w[i] * 1.0\n",
    "    return  np.argmax(votes)"
   ]
  },
  {
   "cell_type": "code",
   "execution_count": null,
   "metadata": {},
   "outputs": [],
   "source": [
    "def predict_extension(X_train,X_test,y_train,k):\n",
    "    test_rows,test_columns = X_test.shape\n",
    "    train_rows,train_columns = X_train.shape\n",
    "    predicted_labels = np.empty(shape=[0,X_test.shape[0]])\n",
    "    for i in range(test_rows):\n",
    "        distance_array = []\n",
    "        for j in range(train_rows):\n",
    "            distance_array.append((distance(X_test[i], X_train[j]), y_train[j]))\n",
    "        distance_array = sorted(distance_array, key=lambda x: (x[0]))\n",
    "        weights = weighted_voting(distance_array,k)\n",
    "        label = votes(distance_array,weights,k)\n",
    "        predicted_labels=np.append(predicted_labels,label)\n",
    "    return predicted_labels\n",
    "\n",
    "\n",
    "result=predict_extension(X_train,X_test,y_train,2)\n",
    "print(\"accuracy for knn with weighted inverse is:\",accuracy(y_test,result),\"%\")\n"
   ]
  },
  {
   "cell_type": "markdown",
   "metadata": {},
   "source": [
    "# Dataset 2 - "
   ]
  },
  {
   "cell_type": "code",
   "execution_count": null,
   "metadata": {},
   "outputs": [],
   "source": [
    "breast_cancer_data = load_breast_cancer()\n",
    "X_new = breast_cancer_data.data\n",
    "y_new = breast_cancer_data.target\n",
    "\n",
    "# split data \n",
    "\n",
    "X_train_new,X_test_new,Y_train_new,Y_test_new = train_test_split(X_new,y_new,test_size = 0.3, random_state =31)\n",
    "\n",
    "#running basic knn algorithm \n",
    "result=predict(X_train_new,X_test_new,Y_train_new,2)\n",
    "print(\"accuracy for basic knn is:\",accuracy(Y_test_new,result),\"%\")\n",
    "\n",
    "#running knn extension\n",
    "result=predict_extension(X_train_new,X_test_new,Y_train_new,2)\n",
    "print(\"accuracy for Extension KNN is:\",accuracy(Y_test_new,result),\"%\")\n",
    "\n"
   ]
  },
  {
   "cell_type": "code",
   "execution_count": null,
   "metadata": {},
   "outputs": [],
   "source": []
  },
  {
   "cell_type": "code",
   "execution_count": null,
   "metadata": {},
   "outputs": [],
   "source": []
  }
 ],
 "metadata": {
  "kernelspec": {
   "display_name": "Python 3",
   "language": "python",
   "name": "python3"
  },
  "language_info": {
   "codemirror_mode": {
    "name": "ipython",
    "version": 3
   },
   "file_extension": ".py",
   "mimetype": "text/x-python",
   "name": "python",
   "nbconvert_exporter": "python",
   "pygments_lexer": "ipython3",
   "version": "3.7.3"
  }
 },
 "nbformat": 4,
 "nbformat_minor": 2
}
